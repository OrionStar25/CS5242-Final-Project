{
 "cells": [
  {
   "cell_type": "code",
   "execution_count": 2,
   "id": "eb5e4a91",
   "metadata": {},
   "outputs": [],
   "source": [
    "import pandas as pd"
   ]
  },
  {
   "cell_type": "code",
   "execution_count": 3,
   "id": "a2c35758",
   "metadata": {},
   "outputs": [
    {
     "data": {
      "text/html": [
       "<div>\n",
       "<style scoped>\n",
       "    .dataframe tbody tr th:only-of-type {\n",
       "        vertical-align: middle;\n",
       "    }\n",
       "\n",
       "    .dataframe tbody tr th {\n",
       "        vertical-align: top;\n",
       "    }\n",
       "\n",
       "    .dataframe thead th {\n",
       "        text-align: right;\n",
       "    }\n",
       "</style>\n",
       "<table border=\"1\" class=\"dataframe\">\n",
       "  <thead>\n",
       "    <tr style=\"text-align: right;\">\n",
       "      <th></th>\n",
       "      <th>Unnamed: 0</th>\n",
       "      <th>movie</th>\n",
       "      <th>genre</th>\n",
       "      <th>labelled_genre</th>\n",
       "      <th>first_genre</th>\n",
       "      <th>stemmed_summary</th>\n",
       "    </tr>\n",
       "  </thead>\n",
       "  <tbody>\n",
       "    <tr>\n",
       "      <th>0</th>\n",
       "      <td>0</td>\n",
       "      <td>Bullet Train</td>\n",
       "      <td>Action,Comedy,Thriller</td>\n",
       "      <td>Action</td>\n",
       "      <td>Action</td>\n",
       "      <td>five assassin aboard swift move bullet train f...</td>\n",
       "    </tr>\n",
       "    <tr>\n",
       "      <th>1</th>\n",
       "      <td>1</td>\n",
       "      <td>Black Adam</td>\n",
       "      <td>Action,Adventure,Fantasy</td>\n",
       "      <td>Action</td>\n",
       "      <td>Action</td>\n",
       "      <td>near year bestow almighti power egyptian god i...</td>\n",
       "    </tr>\n",
       "    <tr>\n",
       "      <th>2</th>\n",
       "      <td>2</td>\n",
       "      <td>Top Gun: Maverick</td>\n",
       "      <td>Action,Drama</td>\n",
       "      <td>Action</td>\n",
       "      <td>Action</td>\n",
       "      <td>thirti year maverick still push envelop top na...</td>\n",
       "    </tr>\n",
       "    <tr>\n",
       "      <th>3</th>\n",
       "      <td>3</td>\n",
       "      <td>The Woman King</td>\n",
       "      <td>Action,Drama,History</td>\n",
       "      <td>Action</td>\n",
       "      <td>Action</td>\n",
       "      <td>histor epic inspir true event took place kingd...</td>\n",
       "    </tr>\n",
       "    <tr>\n",
       "      <th>4</th>\n",
       "      <td>4</td>\n",
       "      <td>Thor: Love and Thunder</td>\n",
       "      <td>Action,Adventure,Comedy</td>\n",
       "      <td>Action</td>\n",
       "      <td>Action</td>\n",
       "      <td>thor enlist help valkyri korg ex girlfriend ja...</td>\n",
       "    </tr>\n",
       "  </tbody>\n",
       "</table>\n",
       "</div>"
      ],
      "text/plain": [
       "   Unnamed: 0                   movie                     genre  \\\n",
       "0           0            Bullet Train    Action,Comedy,Thriller   \n",
       "1           1              Black Adam  Action,Adventure,Fantasy   \n",
       "2           2       Top Gun: Maverick              Action,Drama   \n",
       "3           3          The Woman King      Action,Drama,History   \n",
       "4           4  Thor: Love and Thunder   Action,Adventure,Comedy   \n",
       "\n",
       "  labelled_genre first_genre  \\\n",
       "0         Action      Action   \n",
       "1         Action      Action   \n",
       "2         Action      Action   \n",
       "3         Action      Action   \n",
       "4         Action      Action   \n",
       "\n",
       "                                     stemmed_summary  \n",
       "0  five assassin aboard swift move bullet train f...  \n",
       "1  near year bestow almighti power egyptian god i...  \n",
       "2  thirti year maverick still push envelop top na...  \n",
       "3  histor epic inspir true event took place kingd...  \n",
       "4  thor enlist help valkyri korg ex girlfriend ja...  "
      ]
     },
     "execution_count": 3,
     "metadata": {},
     "output_type": "execute_result"
    }
   ],
   "source": [
    "file_path= 'data/cleaned_imdb.csv'\n",
    "movies = pd.read_csv(file_path)\n",
    "movies.head()"
   ]
  },
  {
   "cell_type": "code",
   "execution_count": null,
   "id": "82e59ed1",
   "metadata": {},
   "outputs": [],
   "source": []
  },
  {
   "cell_type": "code",
   "execution_count": null,
   "id": "6b07329a",
   "metadata": {},
   "outputs": [],
   "source": []
  }
 ],
 "metadata": {
  "kernelspec": {
   "display_name": "Python 3 (ipykernel)",
   "language": "python",
   "name": "python3"
  },
  "language_info": {
   "codemirror_mode": {
    "name": "ipython",
    "version": 3
   },
   "file_extension": ".py",
   "mimetype": "text/x-python",
   "name": "python",
   "nbconvert_exporter": "python",
   "pygments_lexer": "ipython3",
   "version": "3.10.8"
  }
 },
 "nbformat": 4,
 "nbformat_minor": 5
}
