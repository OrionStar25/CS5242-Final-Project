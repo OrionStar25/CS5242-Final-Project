{
 "cells": [
  {
   "cell_type": "code",
   "execution_count": 1,
   "metadata": {
    "id": "BV-WIGMpHJlE"
   },
   "outputs": [],
   "source": [
    "#import libraries\n",
    "import pandas as pd\n",
    "import numpy as np\n",
    "import json\n",
    "import nltk\n",
    "import re\n",
    "import csv\n",
    "import matplotlib.pyplot as plt \n",
    "import seaborn as sns\n",
    "from tqdm import tqdm"
   ]
  },
  {
   "cell_type": "code",
   "execution_count": 2,
   "metadata": {
    "colab": {
     "base_uri": "https://localhost:8080/",
     "height": 336
    },
    "id": "QhJa6nm2HOL5",
    "outputId": "68cb61e8-ce53-448b-9bbe-356d0e811080"
   },
   "outputs": [],
   "source": [
    "# from google.colab import drive\n",
    "# drive.mount('/content/drive')"
   ]
  },
  {
   "cell_type": "code",
   "execution_count": 4,
   "metadata": {
    "id": "J9i0EjuJHS_o"
   },
   "outputs": [
    {
     "data": {
      "text/html": [
       "<div>\n",
       "<style scoped>\n",
       "    .dataframe tbody tr th:only-of-type {\n",
       "        vertical-align: middle;\n",
       "    }\n",
       "\n",
       "    .dataframe tbody tr th {\n",
       "        vertical-align: top;\n",
       "    }\n",
       "\n",
       "    .dataframe thead th {\n",
       "        text-align: right;\n",
       "    }\n",
       "</style>\n",
       "<table border=\"1\" class=\"dataframe\">\n",
       "  <thead>\n",
       "    <tr style=\"text-align: right;\">\n",
       "      <th></th>\n",
       "      <th>movie</th>\n",
       "      <th>genre</th>\n",
       "      <th>labelled_genre</th>\n",
       "      <th>summary</th>\n",
       "    </tr>\n",
       "  </thead>\n",
       "  <tbody>\n",
       "    <tr>\n",
       "      <th>0</th>\n",
       "      <td>Black Panther: Wakanda Forever</td>\n",
       "      <td>Action,Adventure,Drama</td>\n",
       "      <td>Action</td>\n",
       "      <td>peopl wakanda fight protect home interven worl...</td>\n",
       "    </tr>\n",
       "    <tr>\n",
       "      <th>1</th>\n",
       "      <td>Enola Holmes 2</td>\n",
       "      <td>Action,Adventure,Crime</td>\n",
       "      <td>Action</td>\n",
       "      <td>detect hire enola holm take first offici case ...</td>\n",
       "    </tr>\n",
       "    <tr>\n",
       "      <th>2</th>\n",
       "      <td>Weird: The Al Yankovic Story</td>\n",
       "      <td>Biography,Comedy,Music</td>\n",
       "      <td>Comedy</td>\n",
       "      <td>explor everi facet yankov life meteor rise fam...</td>\n",
       "    </tr>\n",
       "    <tr>\n",
       "      <th>3</th>\n",
       "      <td>The Whale</td>\n",
       "      <td>Drama</td>\n",
       "      <td>Drama</td>\n",
       "      <td>reclus english teacher attempt reconnect estra...</td>\n",
       "    </tr>\n",
       "    <tr>\n",
       "      <th>4</th>\n",
       "      <td>Don't Worry Darling</td>\n",
       "      <td>Drama,Thriller</td>\n",
       "      <td>Drama</td>\n",
       "      <td>housewif live husband utopian experiment commu...</td>\n",
       "    </tr>\n",
       "  </tbody>\n",
       "</table>\n",
       "</div>"
      ],
      "text/plain": [
       "                            movie                   genre labelled_genre  \\\n",
       "0  Black Panther: Wakanda Forever  Action,Adventure,Drama         Action   \n",
       "1                  Enola Holmes 2  Action,Adventure,Crime         Action   \n",
       "2    Weird: The Al Yankovic Story  Biography,Comedy,Music         Comedy   \n",
       "3                       The Whale                   Drama          Drama   \n",
       "4             Don't Worry Darling          Drama,Thriller          Drama   \n",
       "\n",
       "                                             summary  \n",
       "0  peopl wakanda fight protect home interven worl...  \n",
       "1  detect hire enola holm take first offici case ...  \n",
       "2  explor everi facet yankov life meteor rise fam...  \n",
       "3  reclus english teacher attempt reconnect estra...  \n",
       "4  housewif live husband utopian experiment commu...  "
      ]
     },
     "execution_count": 4,
     "metadata": {},
     "output_type": "execute_result"
    }
   ],
   "source": [
    "file_path= 'data/cleaned_imdb.csv'\n",
    "movies = pd.read_csv(file_path, index_col=0)\n",
    "movies.head()"
   ]
  },
  {
   "cell_type": "code",
   "execution_count": 5,
   "metadata": {},
   "outputs": [
    {
     "data": {
      "text/html": [
       "<div>\n",
       "<style scoped>\n",
       "    .dataframe tbody tr th:only-of-type {\n",
       "        vertical-align: middle;\n",
       "    }\n",
       "\n",
       "    .dataframe tbody tr th {\n",
       "        vertical-align: top;\n",
       "    }\n",
       "\n",
       "    .dataframe thead th {\n",
       "        text-align: right;\n",
       "    }\n",
       "</style>\n",
       "<table border=\"1\" class=\"dataframe\">\n",
       "  <thead>\n",
       "    <tr style=\"text-align: right;\">\n",
       "      <th></th>\n",
       "      <th>movie</th>\n",
       "      <th>genre</th>\n",
       "      <th>labelled_genre</th>\n",
       "      <th>summary</th>\n",
       "    </tr>\n",
       "  </thead>\n",
       "  <tbody>\n",
       "    <tr>\n",
       "      <th>count</th>\n",
       "      <td>64014</td>\n",
       "      <td>64014</td>\n",
       "      <td>64014</td>\n",
       "      <td>64014</td>\n",
       "    </tr>\n",
       "    <tr>\n",
       "      <th>unique</th>\n",
       "      <td>64014</td>\n",
       "      <td>1324</td>\n",
       "      <td>5</td>\n",
       "      <td>63789</td>\n",
       "    </tr>\n",
       "    <tr>\n",
       "      <th>top</th>\n",
       "      <td>Black Panther: Wakanda Forever</td>\n",
       "      <td>Drama</td>\n",
       "      <td>Drama</td>\n",
       "      <td>plot unknown</td>\n",
       "    </tr>\n",
       "    <tr>\n",
       "      <th>freq</th>\n",
       "      <td>1</td>\n",
       "      <td>4627</td>\n",
       "      <td>20035</td>\n",
       "      <td>80</td>\n",
       "    </tr>\n",
       "  </tbody>\n",
       "</table>\n",
       "</div>"
      ],
      "text/plain": [
       "                                 movie  genre labelled_genre       summary\n",
       "count                            64014  64014          64014         64014\n",
       "unique                           64014   1324              5         63789\n",
       "top     Black Panther: Wakanda Forever  Drama          Drama  plot unknown\n",
       "freq                                 1   4627          20035            80"
      ]
     },
     "execution_count": 5,
     "metadata": {},
     "output_type": "execute_result"
    }
   ],
   "source": [
    "movies.describe()"
   ]
  },
  {
   "cell_type": "code",
   "execution_count": null,
   "metadata": {
    "colab": {
     "base_uri": "https://localhost:8080/",
     "height": 423
    },
    "id": "JB2uCxWoHn1d",
    "outputId": "3e0e8530-3541-4819-a3d8-a0fbcd5f30df"
   },
   "outputs": [],
   "source": [
    "movies=movies.drop_duplicates(subset='movie')\n",
    "movies = movies[movies[\"summary\"].str.contains(\"Add a Plot\") == False]\n",
    "movies = movies.reset_index(drop=True)\n",
    "movies"
   ]
  },
  {
   "cell_type": "code",
   "execution_count": null,
   "metadata": {
    "id": "VMnZmBC9HsHs"
   },
   "outputs": [],
   "source": [
    "def clean_dataset(text):\n",
    "    # remove backslash-apostrophe \n",
    "    text = re.sub(\"\\'\", \"\", text) \n",
    "    # remove everything except alphabets \n",
    "    text = re.sub(\"[^a-zA-Z]\",\" \",text) \n",
    "    # remove whitespaces \n",
    "    text = ' '.join(text.split()) \n",
    "    # convert text to lowercase \n",
    "    text = text.lower() \n",
    "    \n",
    "    return text"
   ]
  },
  {
   "cell_type": "code",
   "execution_count": null,
   "metadata": {
    "id": "oxxR6uVGH0Hz"
   },
   "outputs": [],
   "source": [
    "movies['clean_summary'] = movies['summary'].apply(lambda x: clean_dataset(x))\n",
    "movies.head(5)"
   ]
  },
  {
   "cell_type": "code",
   "execution_count": null,
   "metadata": {
    "id": "ve1DRqxuH7IF"
   },
   "outputs": [],
   "source": [
    "del movies['summary']"
   ]
  },
  {
   "cell_type": "code",
   "execution_count": null,
   "metadata": {
    "colab": {
     "base_uri": "https://localhost:8080/"
    },
    "id": "J_ADjtBHLbzC",
    "outputId": "7c94d4b3-54c1-4908-eb48-1b3a573f55c4"
   },
   "outputs": [],
   "source": [
    "import nltk\n",
    "nltk.download('stopwords')"
   ]
  },
  {
   "cell_type": "code",
   "execution_count": null,
   "metadata": {
    "id": "l_nAELeeL-F8"
   },
   "outputs": [],
   "source": [
    "from nltk.corpus import stopwords\n",
    "stop_words = set(stopwords.words('english'))\n",
    "\n",
    "# function to remove stopwords\n",
    "def remove_stopwords(text):\n",
    "    no_stopword_text = [w for w in text.split() if not w in stop_words]\n",
    "    return ' '.join(no_stopword_text)\n",
    "\n",
    "movies['clean_summary'] = movies['clean_summary'].apply(lambda x: remove_stopwords(x))\n",
    "movies.head(5)"
   ]
  },
  {
   "cell_type": "code",
   "execution_count": null,
   "metadata": {},
   "outputs": [],
   "source": [
    "from nltk.stem.snowball import SnowballStemmer\n",
    "stemmer = SnowballStemmer(\"english\")\n",
    "\n",
    "movies['stemmed_summary'] = movies['clean_summary'].str.split()\n",
    "movies['stemmed_summary'] = movies['stemmed_summary'].apply(lambda x: [stemmer.stem(y) for y in x]) # Stem every word.\n",
    "movies['stemmed_summary'] = movies['stemmed_summary'].apply(lambda x: ' '.join(x))\n",
    "movies"
   ]
  },
  {
   "cell_type": "code",
   "execution_count": null,
   "metadata": {},
   "outputs": [],
   "source": [
    "del movies['clean_summary']\n",
    "movies['summary'] = movies['stemmed_summary']\n",
    "del movies['stemmed_summary']\n",
    "movies"
   ]
  },
  {
   "cell_type": "code",
   "execution_count": null,
   "metadata": {},
   "outputs": [],
   "source": [
    "movies['labelled_genre'] = movies['genre'].str.split(',')\n",
    "movies['labelled_genre'] = movies['labelled_genre'].apply(lambda x: x[0])\n",
    "movies"
   ]
  },
  {
   "cell_type": "code",
   "execution_count": null,
   "metadata": {},
   "outputs": [],
   "source": [
    "movies.labelled_genre.value_counts().sort_values().plot(kind = 'barh')"
   ]
  },
  {
   "cell_type": "code",
   "execution_count": null,
   "metadata": {},
   "outputs": [],
   "source": [
    "interested = ['Drama', 'Comedy', 'Action', 'Documentary', 'Horror']\n",
    "genre_map = {\n",
    "    'Adventure': 'Action', \n",
    "    'Biography': 'Documentary',\n",
    "    'Crime': 'Action',\n",
    "    'Animation': 'Drama',\n",
    "    'Thriller': 'Horror',\n",
    "    'Western': 'Drama',\n",
    "    'Romance': 'Drama',\n",
    "    'Fantasy': 'Horror',\n",
    "    'Sci-Fi': 'Action',\n",
    "    'Mystery': 'Horror',\n",
    "    'Family': 'Drama',\n",
    "    'Musical': 'Comedy',\n",
    "    'Music': 'Comedy',\n",
    "    'History': 'Documentary',\n",
    "    'War': 'Action',\n",
    "    'Film-Noir': 'Action',\n",
    "    'Sport': 'Action',\n",
    "    'Short': 'Drama',\n",
    "    'Reality-TV': 'Documentary',\n",
    "    'Adult': 'Comedy'\n",
    "    }\n",
    "new_genres = []\n",
    "\n",
    "for row in movies['genre'].str.split(','):\n",
    "    flag=0\n",
    "    for genre in row:\n",
    "        if genre in interested:\n",
    "            new_genres.append(genre)\n",
    "            flag=1\n",
    "            break\n",
    "    if flag == 0:\n",
    "        new_genres.append(genre_map[row[0]])\n",
    "        \n",
    "movies['new_genre'] = new_genres\n",
    "movies"
   ]
  },
  {
   "cell_type": "code",
   "execution_count": null,
   "metadata": {},
   "outputs": [],
   "source": [
    "movies.new_genre.value_counts().sort_values().plot(kind = 'barh')"
   ]
  },
  {
   "cell_type": "code",
   "execution_count": null,
   "metadata": {},
   "outputs": [],
   "source": [
    "movies['labelled_genre'] = movies['new_genre']\n",
    "del movies['new_genre']\n",
    "movies.to_csv('data/new_cleaned_imdb.csv')"
   ]
  },
  {
   "cell_type": "code",
   "execution_count": null,
   "metadata": {},
   "outputs": [],
   "source": []
  },
  {
   "cell_type": "code",
   "execution_count": null,
   "metadata": {},
   "outputs": [],
   "source": []
  }
 ],
 "metadata": {
  "colab": {
   "collapsed_sections": [],
   "provenance": []
  },
  "kernelspec": {
   "display_name": "Python 3 (ipykernel)",
   "language": "python",
   "name": "python3"
  },
  "language_info": {
   "codemirror_mode": {
    "name": "ipython",
    "version": 3
   },
   "file_extension": ".py",
   "mimetype": "text/x-python",
   "name": "python",
   "nbconvert_exporter": "python",
   "pygments_lexer": "ipython3",
   "version": "3.10.8"
  }
 },
 "nbformat": 4,
 "nbformat_minor": 1
}
